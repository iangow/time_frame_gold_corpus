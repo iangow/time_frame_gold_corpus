{
 "cells": [
  {
   "cell_type": "markdown",
   "id": "b7d9956a",
   "metadata": {},
   "source": [
    "# Classification performance of the keyword search algorithm\n",
    "\n",
    "The data and code here produces the in-sample and out-of-sample classification performance statistics.\n",
    "\n",
    "I use keyword search to find forward-looking sentences. The keyword list for forward-looking is uploaded [here](https://github.com/yiyangw2/time_frame_gold_corpus/blob/main/fls_terms2.txt). Besides, I determine that if a sentence contains words of years for the coming ten years, it is also forward-looking. The word list is adapted from [previous studies](https://pubsonline.informs.org/doi/abs/10.1287/mnsc.2014.1921).\n",
    "\n",
    "Among the forward-looking statements, I use a time frame keyword list to identify those with time frames. The keyword list for time frames is uploaded [here](https://github.com/yiyangw2/time_frame_gold_corpus/blob/main/qt_terms2.txt).The time frame keyword list is adapted from  [previous studies](https://link.springer.com/article/10.1007/s11142-015-9329-8)."
   ]
  },
  {
   "cell_type": "code",
   "execution_count": 17,
   "id": "a00b876b",
   "metadata": {
    "execution": {
     "iopub.execute_input": "2024-07-10T22:49:15.956550Z",
     "iopub.status.busy": "2024-07-10T22:49:15.955950Z",
     "iopub.status.idle": "2024-07-10T22:49:16.120634Z",
     "shell.execute_reply": "2024-07-10T22:49:16.120375Z",
     "shell.execute_reply.started": "2024-07-10T22:49:15.956508Z"
    }
   },
   "outputs": [],
   "source": [
    "import pandas as pd\n",
    "gold_standard = pd.read_excel(\"Gold Standard Corpus.xlsx\")\n",
    "gold_standard = gold_standard[['file_name', 'last_update', 'section', 'context', \n",
    "               'speaker_number', 'future_year',\n",
    "               'speaker_text', 'fl', 'qt', 'fl_qt', 'training sample', 'test sample']]"
   ]
  },
  {
   "cell_type": "markdown",
   "id": "50ae3f84",
   "metadata": {},
   "source": [
    "The underlying text associated with the gold standard is found in [`Gold Standard Corpus.xlsx`](https://github.com/yiyangw2/time_frame_gold_corpus/blob/main/Gold%20Standard%20Corpus.xlsx). It is composed of 200 randomly picked up paragraphs of the management (1288 sentences). As you can see, each sentence has identifiers for where it comes from. And values for `fl_cal`,`qt_cal` and `fl_qt_cal`, reflecting whether the algorithm determines that whether the sentence is forward-looking, whether it contains time frames and whether it is a forward-looking statement with time frames. Similarly, each observation has values for `fl`,`qt` and `fl_qt`, which is whether I manually determine that whether the sentence is forward-looking, whether it contains time frames and whether it is a forward-looking statement with time frames. The underlying earnings calls' scripts are from the Melbourne Centre for Corporate Governance and Regulation (MCCGR) database. "
   ]
  },
  {
   "cell_type": "markdown",
   "id": "30beaca8",
   "metadata": {},
   "source": [
    "The following function applies the identification functions to each sentence and shows how `fl_cal`, `qt_cal` and `fl_qt_cal` in `gold_standard` are produced."
   ]
  },
  {
   "cell_type": "code",
   "execution_count": 18,
   "id": "9d44182d-0457-4a9b-99e7-590e213b8696",
   "metadata": {
    "execution": {
     "iopub.execute_input": "2024-07-10T22:49:17.550644Z",
     "iopub.status.busy": "2024-07-10T22:49:17.550252Z",
     "iopub.status.idle": "2024-07-10T22:49:17.555232Z",
     "shell.execute_reply": "2024-07-10T22:49:17.554594Z",
     "shell.execute_reply.started": "2024-07-10T22:49:17.550619Z"
    }
   },
   "outputs": [],
   "source": [
    "import re\n",
    "\n",
    "def create_regex_list(terms_file:str):\n",
    "    \"\"\"Creates a list of regex expressions of\n",
    "    short term orientation\"\"\"\n",
    "\n",
    "    # opens the specified dict_file in \"r\" (read) mode\n",
    "    with open(terms_file,\"r\") as file:\n",
    "        # reads the content of the file line-by-line\n",
    "        # and creates a list of terms\n",
    "        terms = file.read().splitlines()\n",
    "\n",
    "    # creates a list of regex expressions by adding\n",
    "    # word boundary (\\b) anchors to the beginning and\n",
    "    # the ending of each FLS term\n",
    "    terms_regex = [re.compile(r'\\b' + term + r'\\b') for term in terms]\n",
    "    return terms_regex"
   ]
  },
  {
   "cell_type": "code",
   "execution_count": 30,
   "id": "f6612936-ebdc-404d-be00-694fb456f248",
   "metadata": {
    "execution": {
     "iopub.execute_input": "2024-07-10T22:52:53.539914Z",
     "iopub.status.busy": "2024-07-10T22:52:53.539479Z",
     "iopub.status.idle": "2024-07-10T22:52:53.546300Z",
     "shell.execute_reply": "2024-07-10T22:52:53.545633Z",
     "shell.execute_reply.started": "2024-07-10T22:52:53.539871Z"
    }
   },
   "outputs": [],
   "source": [
    "def get_future_year_regex(future_year):\n",
    "    return [re.compile(r\"[^$,]\\b\" + str(y) + r\"\\b(?!(%|,\\d|.\\d))\") \n",
    "            for y in range(future_year + 1, future_year + 10)]\n",
    "\n",
    "def is_forward_looking(sentence:str):\n",
    "    \"\"\"Returns whether sentence is forward-looking.\"\"\"\n",
    "    return is_term(sentence, create_regex_list(r\"fls_terms2.txt\"))"
   ]
  },
  {
   "cell_type": "code",
   "execution_count": 31,
   "id": "4967c2bc-1a2e-4f54-8533-af8fcbf9fe69",
   "metadata": {
    "execution": {
     "iopub.execute_input": "2024-07-10T22:52:53.998915Z",
     "iopub.status.busy": "2024-07-10T22:52:53.998575Z",
     "iopub.status.idle": "2024-07-10T22:52:54.004537Z",
     "shell.execute_reply": "2024-07-10T22:52:54.003307Z",
     "shell.execute_reply.started": "2024-07-10T22:52:53.998891Z"
    }
   },
   "outputs": [],
   "source": [
    "def count_term(text:str, regex):\n",
    "    \"\"\"Returns the number of long-term oriented.\"\"\"\n",
    "    text = text.lower()\n",
    "    count = 0\n",
    "    for term in regex:\n",
    "      count = count + len(re.findall(term, text))\n",
    "    return count\n",
    "\n",
    "def is_term(text:str, regex): \n",
    "  return count_term(text, regex) > 0\n",
    "\n",
    "def is_qt_term(text:str): \n",
    "  return is_term(text, create_regex_list(r\"qt_terms2.txt\"))\n",
    "\n",
    "def is_future_year(text, future_year):\n",
    "    return is_term(text, get_future_year_regex(future_year))"
   ]
  },
  {
   "cell_type": "code",
   "execution_count": 32,
   "id": "0c8e0a5d-f6b8-40c1-907f-ef4bb5c4e2c3",
   "metadata": {
    "execution": {
     "iopub.execute_input": "2024-07-10T22:52:54.243400Z",
     "iopub.status.busy": "2024-07-10T22:52:54.242815Z",
     "iopub.status.idle": "2024-07-10T22:52:55.378304Z",
     "shell.execute_reply": "2024-07-10T22:52:55.378039Z",
     "shell.execute_reply.started": "2024-07-10T22:52:54.243358Z"
    }
   },
   "outputs": [],
   "source": [
    "gold_standard['is_future_year'] = gold_standard.apply(lambda x: is_future_year(x['speaker_text'], x['future_year']), axis=1)\n",
    "gold_standard['is_term'] = gold_standard['speaker_text'].map(is_qt_term)\n",
    "gold_standard['fl_cal'] = gold_standard.apply(lambda x: is_forward_looking(x['speaker_text']), axis=1)\n",
    "gold_standard['qt_cal'] = (gold_standard.is_term | gold_standard.is_future_year)\n",
    "gold_standard[\"fl_qt_cal\"] = gold_standard.fl_cal & gold_standard.qt_cal"
   ]
  },
  {
   "cell_type": "markdown",
   "id": "19569d34",
   "metadata": {},
   "source": [
    "The following function generates statistics to report the performance of the algorithm on identifying forward-looking statements and forward-looking statements with time frames."
   ]
  },
  {
   "cell_type": "code",
   "execution_count": 33,
   "id": "322980da",
   "metadata": {
    "execution": {
     "iopub.execute_input": "2024-07-10T22:52:55.379056Z",
     "iopub.status.busy": "2024-07-10T22:52:55.378975Z",
     "iopub.status.idle": "2024-07-10T22:52:55.381917Z",
     "shell.execute_reply": "2024-07-10T22:52:55.381625Z",
     "shell.execute_reply.started": "2024-07-10T22:52:55.379048Z"
    }
   },
   "outputs": [],
   "source": [
    "def print_stats(df, type = 'fl'):\n",
    "    var = type\n",
    "    var_cal = type + '_cal'\n",
    "    \n",
    "    tn = sum((df[var] == df[var_cal]) & ~df[var_cal])\n",
    "    fp = sum((df[var] != df[var_cal]) & df[var_cal])\n",
    "    fn = sum((df[var] != df[var_cal]) & ~df[var_cal])\n",
    "    tp = sum((df[var] == df[var_cal]) & df[var_cal])\n",
    "    \n",
    "    print(\"Accuracy {:.2f}%\".format( 100 * (tp + tn)/(tp + tn + fp + fn)))\n",
    "    if tp + fp > 0:\n",
    "        print(\"Precision {:.2f}%\".format( 100 * tp/(tp + fp)))\n",
    "    if tp + fn > 0:\n",
    "        print(\"True positive rate {:.2f}%\".format( 100 * tp/(tp + fn)))"
   ]
  },
  {
   "cell_type": "code",
   "execution_count": 34,
   "id": "a5fc9a1c",
   "metadata": {
    "execution": {
     "iopub.execute_input": "2024-07-10T22:52:55.800515Z",
     "iopub.status.busy": "2024-07-10T22:52:55.800171Z",
     "iopub.status.idle": "2024-07-10T22:52:55.810148Z",
     "shell.execute_reply": "2024-07-10T22:52:55.809421Z",
     "shell.execute_reply.started": "2024-07-10T22:52:55.800491Z"
    }
   },
   "outputs": [
    {
     "name": "stdout",
     "output_type": "stream",
     "text": [
      "Accuracy 94.32%\n",
      "Precision 80.95%\n",
      "True positive rate 79.69%\n"
     ]
    }
   ],
   "source": [
    "print_stats(gold_standard[gold_standard['training sample']==1], type = 'fl')"
   ]
  },
  {
   "cell_type": "code",
   "execution_count": 35,
   "id": "49d87da3",
   "metadata": {
    "execution": {
     "iopub.execute_input": "2024-07-10T22:52:57.668730Z",
     "iopub.status.busy": "2024-07-10T22:52:57.668391Z",
     "iopub.status.idle": "2024-07-10T22:52:57.675081Z",
     "shell.execute_reply": "2024-07-10T22:52:57.674562Z",
     "shell.execute_reply.started": "2024-07-10T22:52:57.668706Z"
    }
   },
   "outputs": [
    {
     "name": "stdout",
     "output_type": "stream",
     "text": [
      "Accuracy 96.25%\n",
      "Precision 88.37%\n",
      "True positive rate 57.58%\n"
     ]
    }
   ],
   "source": [
    "print_stats(gold_standard[gold_standard['training sample']==1], type = 'fl_qt')"
   ]
  },
  {
   "cell_type": "code",
   "execution_count": 36,
   "id": "8279b9d0",
   "metadata": {
    "execution": {
     "iopub.execute_input": "2024-07-10T22:52:58.591214Z",
     "iopub.status.busy": "2024-07-10T22:52:58.590854Z",
     "iopub.status.idle": "2024-07-10T22:52:58.599048Z",
     "shell.execute_reply": "2024-07-10T22:52:58.598588Z",
     "shell.execute_reply.started": "2024-07-10T22:52:58.591190Z"
    }
   },
   "outputs": [
    {
     "name": "stdout",
     "output_type": "stream",
     "text": [
      "Accuracy 95.33%\n",
      "Precision 83.05%\n",
      "True positive rate 84.48%\n"
     ]
    }
   ],
   "source": [
    "print_stats(gold_standard[gold_standard['training sample']==0], type = 'fl')"
   ]
  },
  {
   "cell_type": "code",
   "execution_count": 37,
   "id": "8b09f56c",
   "metadata": {
    "execution": {
     "iopub.execute_input": "2024-07-10T22:52:59.063416Z",
     "iopub.status.busy": "2024-07-10T22:52:59.062862Z",
     "iopub.status.idle": "2024-07-10T22:52:59.069107Z",
     "shell.execute_reply": "2024-07-10T22:52:59.068293Z",
     "shell.execute_reply.started": "2024-07-10T22:52:59.063393Z"
    }
   },
   "outputs": [
    {
     "name": "stdout",
     "output_type": "stream",
     "text": [
      "Accuracy 96.31%\n",
      "Precision 73.91%\n",
      "True positive rate 65.38%\n"
     ]
    }
   ],
   "source": [
    "print_stats(gold_standard[gold_standard['training sample']==0], type = 'fl_qt')"
   ]
  },
  {
   "cell_type": "code",
   "execution_count": 38,
   "id": "6aa2d278-e088-46d0-bc37-8854f11357f5",
   "metadata": {
    "execution": {
     "iopub.execute_input": "2024-07-10T22:52:59.872484Z",
     "iopub.status.busy": "2024-07-10T22:52:59.872147Z",
     "iopub.status.idle": "2024-07-10T22:52:59.879749Z",
     "shell.execute_reply": "2024-07-10T22:52:59.879139Z",
     "shell.execute_reply.started": "2024-07-10T22:52:59.872461Z"
    }
   },
   "outputs": [
    {
     "name": "stdout",
     "output_type": "stream",
     "text": [
      "Accuracy 95.01%\n",
      "Precision 86.52%\n",
      "True positive rate 96.65%\n"
     ]
    }
   ],
   "source": [
    "print_stats(gold_standard[gold_standard['training sample']==1], type = 'qt')"
   ]
  },
  {
   "cell_type": "code",
   "execution_count": 39,
   "id": "8ff108f4-adbd-4acf-981d-6ed4d13bac42",
   "metadata": {
    "execution": {
     "iopub.execute_input": "2024-07-10T22:53:00.412145Z",
     "iopub.status.busy": "2024-07-10T22:53:00.411796Z",
     "iopub.status.idle": "2024-07-10T22:53:00.418132Z",
     "shell.execute_reply": "2024-07-10T22:53:00.417611Z",
     "shell.execute_reply.started": "2024-07-10T22:53:00.412122Z"
    }
   },
   "outputs": [
    {
     "name": "stdout",
     "output_type": "stream",
     "text": [
      "Accuracy 94.59%\n",
      "Precision 86.55%\n",
      "True positive rate 94.50%\n"
     ]
    }
   ],
   "source": [
    "print_stats(gold_standard[gold_standard['training sample']==0], type = 'qt')"
   ]
  },
  {
   "cell_type": "code",
   "execution_count": null,
   "id": "49df71df-2fcc-44d7-9313-07bbcc148cd7",
   "metadata": {},
   "outputs": [],
   "source": []
  }
 ],
 "metadata": {
  "kernelspec": {
   "display_name": "Python 3 (ipykernel)",
   "language": "python",
   "name": "python3"
  },
  "language_info": {
   "codemirror_mode": {
    "name": "ipython",
    "version": 3
   },
   "file_extension": ".py",
   "mimetype": "text/x-python",
   "name": "python",
   "nbconvert_exporter": "python",
   "pygments_lexer": "ipython3",
   "version": "3.12.4"
  }
 },
 "nbformat": 4,
 "nbformat_minor": 5
}
